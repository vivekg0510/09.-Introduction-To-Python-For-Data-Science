{
 "cells": [
  {
   "cell_type": "markdown",
   "metadata": {},
   "source": [
    "# BMI Calculation"
   ]
  },
  {
   "cell_type": "markdown",
   "metadata": {},
   "source": [
    "## Formula\n",
    "BMI = WEIGHT / HEIGHT RAISE TO THE POWER OF 2"
   ]
  },
  {
   "cell_type": "code",
   "execution_count": 1,
   "metadata": {},
   "outputs": [
    {
     "name": "stdout",
     "output_type": "stream",
     "text": [
      "Enter Your Weight in KG54\n",
      "Enter Your Height in CM178\n",
      "Your BMI Score Is 17.043302613306402\n"
     ]
    }
   ],
   "source": [
    "weight = float(input(\"Enter Your Weight in KG\"))\n",
    "height = (float(input(\"Enter Your Height in CM\")))/100\n",
    "\n",
    "bmi = weight/(height**2)\n",
    "\n",
    "print(\"Your BMI Score Is {}\".format(bmi))"
   ]
  }
 ],
 "metadata": {
  "kernelspec": {
   "display_name": "Python 3",
   "language": "python",
   "name": "python3"
  },
  "language_info": {
   "codemirror_mode": {
    "name": "ipython",
    "version": 3
   },
   "file_extension": ".py",
   "mimetype": "text/x-python",
   "name": "python",
   "nbconvert_exporter": "python",
   "pygments_lexer": "ipython3",
   "version": "3.7.1"
  }
 },
 "nbformat": 4,
 "nbformat_minor": 2
}
