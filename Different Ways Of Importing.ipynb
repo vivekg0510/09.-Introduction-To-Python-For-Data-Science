{
 "cells": [
  {
   "cell_type": "markdown",
   "metadata": {},
   "source": [
    "# Different ways of importing"
   ]
  },
  {
   "cell_type": "raw",
   "metadata": {},
   "source": [
    "There are several ways to import packages and modules into Python. Depending on the import call, you'll have to use different Python code."
   ]
  },
  {
   "cell_type": "raw",
   "metadata": {},
   "source": [
    "Suppose you want to use the function inv(), which is in the linalg subpackage of the scipy package. You want to be able to use this function as follows:\n",
    "\n",
    "my_inv([[1,2], [3,4]])\n",
    "Which import statement will you need in order to run the above code without an error?\n",
    "\n",
    "Possible Answers\n",
    "import scipy\n",
    "import scipy.linalg\n",
    "from scipy.linalg import my_inv\n",
    "from scipy.linalg import inv as my_inv"
   ]
  },
  {
   "cell_type": "code",
   "execution_count": 1,
   "metadata": {},
   "outputs": [],
   "source": [
    "# from scipy.linalg import inv as my_inv                      <----------Correct"
   ]
  }
 ],
 "metadata": {
  "kernelspec": {
   "display_name": "Python 3",
   "language": "python",
   "name": "python3"
  },
  "language_info": {
   "codemirror_mode": {
    "name": "ipython",
    "version": 3
   },
   "file_extension": ".py",
   "mimetype": "text/x-python",
   "name": "python",
   "nbconvert_exporter": "python",
   "pygments_lexer": "ipython3",
   "version": "3.7.1"
  }
 },
 "nbformat": 4,
 "nbformat_minor": 2
}
