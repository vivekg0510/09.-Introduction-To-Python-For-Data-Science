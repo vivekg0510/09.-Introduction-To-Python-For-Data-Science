{
 "cells": [
  {
   "cell_type": "markdown",
   "metadata": {},
   "source": [
    "# NumPy Side Effects"
   ]
  },
  {
   "cell_type": "raw",
   "metadata": {},
   "source": [
    "As Filip explained before, numpy is great for doing vector arithmetic. If you compare its functionality with regular Python lists, however, some things have changed."
   ]
  },
  {
   "cell_type": "raw",
   "metadata": {},
   "source": [
    "First of all, numpy arrays cannot contain elements with different types. If you try to build such a list, some of the elements' types are changed to end up with a homogeneous list. This is known as type coercion."
   ]
  },
  {
   "cell_type": "raw",
   "metadata": {},
   "source": [
    "Second, the typical arithmetic operators, such as +, -, * and / have a different meaning for regular Python lists and numpy arrays.\n",
    "\n",
    "Have a look at this line of code:\n",
    "np.array([True, 1, 2]) + np.array([3, 4, False])"
   ]
  },
  {
   "cell_type": "raw",
   "metadata": {},
   "source": [
    "Can you tell which code chunk builds the exact same Python object? \n",
    "The numpy package is already imported as np, so you can start experimenting in the IPython Shell straight away!\n",
    "\n",
    "Possible Answers\n",
    "-np.array([True, 1, 2, 3, 4, False])\n",
    "-np.array([4, 3, 0]) + np.array([0, 2, 2])\n",
    "-np.array([1, 1, 2]) + np.array([3, 4, -1])\n",
    "-np.array([0, 1, 2, 3, 4, 5])"
   ]
  },
  {
   "cell_type": "code",
   "execution_count": null,
   "metadata": {},
   "outputs": [],
   "source": [
    "# np.array([4, 3, 0]) + np.array([0, 2, 2]) <--------------------CORRECT"
   ]
  }
 ],
 "metadata": {
  "kernelspec": {
   "display_name": "Python 3",
   "language": "python",
   "name": "python3"
  },
  "language_info": {
   "codemirror_mode": {
    "name": "ipython",
    "version": 3
   },
   "file_extension": ".py",
   "mimetype": "text/x-python",
   "name": "python",
   "nbconvert_exporter": "python",
   "pygments_lexer": "ipython3",
   "version": "3.7.1"
  }
 },
 "nbformat": 4,
 "nbformat_minor": 2
}
