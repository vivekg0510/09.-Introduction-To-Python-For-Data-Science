{
 "cells": [
  {
   "cell_type": "markdown",
   "metadata": {},
   "source": [
    "# Inner workings of lists"
   ]
  },
  {
   "cell_type": "raw",
   "metadata": {},
   "source": [
    "At the end of the video, Filip explained how Python lists work behind the scenes. In this exercise you'll get some hands-on experience with this."
   ]
  },
  {
   "cell_type": "raw",
   "metadata": {},
   "source": [
    "The Python code in the script already creates a list with the name areas and a copy named areas_copy.\n",
    "Next, the first element in the areas_copy list is changed and the areas list is printed out. If you hit Submit Answer you'll see that, although you've changed areas_copy, the change also takes effect in the areas list. That's because areas and areas_copy point to the same list."
   ]
  },
  {
   "cell_type": "raw",
   "metadata": {},
   "source": [
    "If you want to prevent changes in areas_copy to also take effect in areas, you'll have to do a more explicit copy of the areas list. You can do this with list() or by using [:]."
   ]
  },
  {
   "cell_type": "raw",
   "metadata": {},
   "source": [
    "Watch out! list() and [:] might not copy properly if you put complex things in your lists."
   ]
  },
  {
   "cell_type": "raw",
   "metadata": {},
   "source": [
    "Instructions\n",
    "Change the second command, that creates the variable areas_copy, such that areas_copy is an explicit copy of areas Now, changes made to areas_copy shouldn't affect areas. Hit Submit Answer to check this."
   ]
  },
  {
   "cell_type": "code",
   "execution_count": 1,
   "metadata": {},
   "outputs": [],
   "source": [
    "# Create list areas\n",
    "areas = [11.25, 18.0, 20.0, 10.75, 9.50]"
   ]
  },
  {
   "cell_type": "code",
   "execution_count": 2,
   "metadata": {},
   "outputs": [],
   "source": [
    "# Create areas_copy\n",
    "areas_copy = list(areas)"
   ]
  },
  {
   "cell_type": "code",
   "execution_count": 3,
   "metadata": {},
   "outputs": [],
   "source": [
    "# Change areas_copy\n",
    "areas_copy[0] = 5.0"
   ]
  },
  {
   "cell_type": "code",
   "execution_count": 5,
   "metadata": {},
   "outputs": [
    {
     "name": "stdout",
     "output_type": "stream",
     "text": [
      "[11.25, 18.0, 20.0, 10.75, 9.5]\n",
      "[5.0, 18.0, 20.0, 10.75, 9.5]\n"
     ]
    }
   ],
   "source": [
    "# Print areas\n",
    "print(areas)\n",
    "\n",
    "# Print areas_copy\n",
    "print(areas_copy)"
   ]
  }
 ],
 "metadata": {
  "kernelspec": {
   "display_name": "Python 3",
   "language": "python",
   "name": "python3"
  },
  "language_info": {
   "codemirror_mode": {
    "name": "ipython",
    "version": 3
   },
   "file_extension": ".py",
   "mimetype": "text/x-python",
   "name": "python",
   "nbconvert_exporter": "python",
   "pygments_lexer": "ipython3",
   "version": "3.7.1"
  }
 },
 "nbformat": 4,
 "nbformat_minor": 2
}
