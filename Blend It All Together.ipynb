{
 "cells": [
  {
   "cell_type": "markdown",
   "metadata": {},
   "source": [
    "# Blend it all together"
   ]
  },
  {
   "cell_type": "raw",
   "metadata": {},
   "source": [
    "In the last few exercises you've learned everything there is to know about heights and weights of baseball players. Now it's time to dive into another sport: soccer."
   ]
  },
  {
   "cell_type": "raw",
   "metadata": {},
   "source": [
    "You've contacted FIFA for some data and they handed you two lists. The lists are the following: positions = ['GK', 'M', 'A', 'D', ...] heights = [191, 184, 185, 180, ...] Each element in the lists corresponds to a player. The first list, positions, contains strings representing each player's position. The possible positions are: 'GK' (goalkeeper), 'M' (midfield), 'A' (attack) and 'D' (defense). The second list, heights, contains integers representing the height of the player in cm. The first player in the lists is a goalkeeper and is pretty tall (191 cm)."
   ]
  },
  {
   "cell_type": "raw",
   "metadata": {},
   "source": [
    "You're fairly confident that the median height of goalkeepers is higher than that of other players on the soccer field. Some of your friends don't believe you, so you are determined to show them using the data you received from FIFA and your newly acquired Python skills."
   ]
  },
  {
   "cell_type": "raw",
   "metadata": {},
   "source": [
    "Instructions\n",
    "- Convert heights and positions, which are regular lists, to numpy arrays. Call them np_heights and np_positions.\n",
    "- Extract all the heights of the goalkeepers. You can use a little trick here: use np_positions == 'GK' as an index for           np_heights. Assign the result to gk_heights.\n",
    "- Extract all the heights of all the other players. This time use np_positions != 'GK' as an index for np_heights. Assign the     result to other_heights.\n",
    "- Print out the median height of the goalkeepers using np.median(). Replace None with the correct code.\n",
    "- Do the same for the other players. Print out their median height. Replace None with the correct code."
   ]
  },
  {
   "cell_type": "code",
   "execution_count": 1,
   "metadata": {},
   "outputs": [],
   "source": [
    "# Import numpy\n",
    "import numpy as np, pandas as pd"
   ]
  },
  {
   "cell_type": "code",
   "execution_count": 13,
   "metadata": {},
   "outputs": [],
   "source": [
    "fifa = pd.read_csv(\"fifa.csv\",squeeze=True)"
   ]
  },
  {
   "cell_type": "code",
   "execution_count": null,
   "metadata": {},
   "outputs": [],
   "source": [
    "# Convert positions and heights to numpy arrays: np_positions, np_heights\n",
    "np_positions = np.array(positions)\n",
    "np_heights = np.array(heights)"
   ]
  },
  {
   "cell_type": "code",
   "execution_count": null,
   "metadata": {},
   "outputs": [],
   "source": [
    "# Heights of the goalkeepers: gk_heights\n",
    "gk_heights = np_heights[np_positions == 'GK']"
   ]
  },
  {
   "cell_type": "code",
   "execution_count": null,
   "metadata": {},
   "outputs": [],
   "source": [
    "# Heights of the other players: other_heights\n",
    "other_heights = np_heights[np_positions != 'GK']"
   ]
  },
  {
   "cell_type": "code",
   "execution_count": null,
   "metadata": {},
   "outputs": [],
   "source": [
    "# Print out the median height of goalkeepers. Replace 'None'\n",
    "print(\"Median height of goalkeepers: \" + str(np.median(gk_heights)))"
   ]
  },
  {
   "cell_type": "code",
   "execution_count": null,
   "metadata": {},
   "outputs": [],
   "source": [
    "# Print out the median height of other players. Replace 'None'\n",
    "print(\"Median height of other players: \" + str(np.median(other_heights)))"
   ]
  }
 ],
 "metadata": {
  "kernelspec": {
   "display_name": "Python 3",
   "language": "python",
   "name": "python3"
  },
  "language_info": {
   "codemirror_mode": {
    "name": "ipython",
    "version": 3
   },
   "file_extension": ".py",
   "mimetype": "text/x-python",
   "name": "python",
   "nbconvert_exporter": "python",
   "pygments_lexer": "ipython3",
   "version": "3.7.1"
  }
 },
 "nbformat": 4,
 "nbformat_minor": 2
}
