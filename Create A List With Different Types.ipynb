{
 "cells": [
  {
   "cell_type": "markdown",
   "metadata": {},
   "source": [
    "# Create List With Different Types"
   ]
  },
  {
   "cell_type": "raw",
   "metadata": {},
   "source": [
    "A list can contain any Python type. Although it's not really common, a list can also contain a mix\n",
    "of Python types including strings, floats, booleans, etc."
   ]
  },
  {
   "cell_type": "raw",
   "metadata": {},
   "source": [
    "The printout of the previous exercise wasn't really satisfying. It's just a list of numbers\n",
    "representing the areas, but you can't tell which area corresponds to which part of your house."
   ]
  },
  {
   "cell_type": "raw",
   "metadata": {},
   "source": [
    "The code on the right is the start of a solution. For some of the areas, the name of the\n",
    "corresponding room is already placed in front. Pay attention here! \"bathroom\" is a string,\n",
    "while bath is a variable that represents the float 9.50 you specified earlier."
   ]
  },
  {
   "cell_type": "raw",
   "metadata": {},
   "source": [
    "Instructions"
   ]
  },
  {
   "cell_type": "raw",
   "metadata": {},
   "source": [
    "Finish the line of code that creates the areas list such that the list first contains the name\n",
    "of each room as a string and then its area. More specifically, add the strings \"hallway\", \"kitchen\"\n",
    "and \"bedroom\" at the appropriate locations."
   ]
  },
  {
   "cell_type": "raw",
   "metadata": {},
   "source": [
    "Print areas again; is the printout more informative this time?"
   ]
  },
  {
   "cell_type": "code",
   "execution_count": 1,
   "metadata": {},
   "outputs": [],
   "source": [
    "# area variables (in square meters)\n",
    "\n",
    "hall = 11.25\n",
    "kit = 18.0\n",
    "liv = 20.0\n",
    "bed = 10.75\n",
    "bath = 9.50"
   ]
  },
  {
   "cell_type": "code",
   "execution_count": 4,
   "metadata": {},
   "outputs": [],
   "source": [
    "# Create list areas\n",
    "areas = [\"hallway\", hall, \"kitchen\", kit, \"living room\", liv,\\\n",
    "         \"bedroom\", bed, \"bathroom\", bath]"
   ]
  },
  {
   "cell_type": "code",
   "execution_count": 5,
   "metadata": {},
   "outputs": [
    {
     "name": "stdout",
     "output_type": "stream",
     "text": [
      "['hallway', 11.25, 'kitchen', 18.0, 'living room', 20.0, 'bedroom', 10.75, 'bathroom', 9.5]\n"
     ]
    }
   ],
   "source": [
    "#Print areas\n",
    "print(areas)"
   ]
  }
 ],
 "metadata": {
  "kernelspec": {
   "display_name": "Python 3",
   "language": "python",
   "name": "python3"
  },
  "language_info": {
   "codemirror_mode": {
    "name": "ipython",
    "version": 3
   },
   "file_extension": ".py",
   "mimetype": "text/x-python",
   "name": "python",
   "nbconvert_exporter": "python",
   "pygments_lexer": "ipython3",
   "version": "3.7.1"
  }
 },
 "nbformat": 4,
 "nbformat_minor": 2
}
