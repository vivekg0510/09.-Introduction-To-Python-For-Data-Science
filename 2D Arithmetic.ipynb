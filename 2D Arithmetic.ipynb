{
 "cells": [
  {
   "cell_type": "markdown",
   "metadata": {},
   "source": [
    "# 2D Arithmetic"
   ]
  },
  {
   "cell_type": "raw",
   "metadata": {},
   "source": [
    "Remember how you calculated the Body Mass Index for all baseball players?\n",
    "numpy was able to perform all calculations element-wise (i.e. element by element).\n",
    "For 2D numpy arrays this isn't any different! You can combine matrices with single numbers, with vectors, and with other matrices."
   ]
  },
  {
   "cell_type": "raw",
   "metadata": {},
   "source": [
    "Execute the code below in the IPython shell and see if you understand:"
   ]
  },
  {
   "cell_type": "code",
   "execution_count": 3,
   "metadata": {},
   "outputs": [
    {
     "name": "stdout",
     "output_type": "stream",
     "text": [
      "[[ 2  4]\n",
      " [ 6  8]\n",
      " [10 12]]\n",
      "\n",
      "\n",
      "[[11 12]\n",
      " [13 14]\n",
      " [15 16]]\n",
      "\n",
      "\n",
      "[[ 2  4]\n",
      " [ 6  8]\n",
      " [10 12]]\n"
     ]
    }
   ],
   "source": [
    "import numpy as np\n",
    "np_mat = np.array([[1, 2],\n",
    "                   [3, 4],\n",
    "                   [5, 6]])\n",
    "print(np_mat * 2)\n",
    "print(\"\\n\")\n",
    "print(np_mat + np.array([10, 10]))\n",
    "print(\"\\n\")\n",
    "print(np_mat + np_mat)\n",
    "# np_baseball is coded for you; it's again a 2D numpy array with 3 columns representing height, weight and age."
   ]
  },
  {
   "cell_type": "raw",
   "metadata": {},
   "source": [
    "Instructions\n",
    "- You managed to get hold of the changes in weight, height and age of all baseball players. It is available as a 2D numpy     \n",
    "  array, updated. Add np_baseball and updated and print out the result.\n",
    "- You want to convert the units of height and weight. As a first step, create a numpy array with three values: 0.0254, 0.453592   and 1. Name this array conversion.\n",
    "- Multiply np_baseball with conversion and print out the result."
   ]
  },
  {
   "cell_type": "code",
   "execution_count": 19,
   "metadata": {},
   "outputs": [],
   "source": [
    "# baseball is available as a regular list of lists\n",
    "baseball = [[180, 78.4, 1.5],\n",
    "            [215, 102.7, 1.6],\n",
    "            [210, 98.5, 1.7],\n",
    "            [188, 75.2,1.8]]\n",
    "\n",
    "# updated is available as 2D numpy array\n",
    "updated = [[180, 78.4, 0.0],\n",
    "            [215, 102.7, 0.1],\n",
    "            [210, 98.5, 0.2],\n",
    "            [188, 75.2, 0.3]]"
   ]
  },
  {
   "cell_type": "code",
   "execution_count": 20,
   "metadata": {},
   "outputs": [],
   "source": [
    "# Import numpy package\n",
    "import numpy as np"
   ]
  },
  {
   "cell_type": "code",
   "execution_count": 21,
   "metadata": {},
   "outputs": [],
   "source": [
    "# Create np_baseball (3 cols)\n",
    "np_baseball = np.array(baseball)"
   ]
  },
  {
   "cell_type": "code",
   "execution_count": 22,
   "metadata": {},
   "outputs": [
    {
     "name": "stdout",
     "output_type": "stream",
     "text": [
      "[[360.  156.8   1.5]\n",
      " [430.  205.4   1.7]\n",
      " [420.  197.    1.9]\n",
      " [376.  150.4   2.1]]\n"
     ]
    }
   ],
   "source": [
    "# Print out addition of np_baseball and updated\n",
    "print(np_baseball + updated)"
   ]
  },
  {
   "cell_type": "code",
   "execution_count": 23,
   "metadata": {},
   "outputs": [],
   "source": [
    "# Create numpy array: conversion\n",
    "conversion = np.array([0.0254, 0.453592, 1.0])"
   ]
  },
  {
   "cell_type": "code",
   "execution_count": 24,
   "metadata": {},
   "outputs": [
    {
     "name": "stdout",
     "output_type": "stream",
     "text": [
      "[[ 4.572     35.5616128  1.5      ]\n",
      " [ 5.461     46.5838984  1.6      ]\n",
      " [ 5.334     44.678812   1.7      ]\n",
      " [ 4.7752    34.1101184  1.8      ]]\n"
     ]
    }
   ],
   "source": [
    "# Print out product of np_baseball and conversion\n",
    "print(np_baseball * conversion)"
   ]
  }
 ],
 "metadata": {
  "kernelspec": {
   "display_name": "Python 3",
   "language": "python",
   "name": "python3"
  },
  "language_info": {
   "codemirror_mode": {
    "name": "ipython",
    "version": 3
   },
   "file_extension": ".py",
   "mimetype": "text/x-python",
   "name": "python",
   "nbconvert_exporter": "python",
   "pygments_lexer": "ipython3",
   "version": "3.7.1"
  }
 },
 "nbformat": 4,
 "nbformat_minor": 2
}
