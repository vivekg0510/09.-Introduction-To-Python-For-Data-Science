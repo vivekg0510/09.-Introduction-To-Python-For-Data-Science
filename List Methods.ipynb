{
 "cells": [
  {
   "cell_type": "markdown",
   "metadata": {},
   "source": [
    "# List Methods"
   ]
  },
  {
   "cell_type": "raw",
   "metadata": {},
   "source": [
    "Strings are not the only Python types that have methods associated with them. Lists, floats, integers and booleans are also types that come packaged with a bunch of useful methods. In this exercise, you'll be experimenting with:"
   ]
  },
  {
   "cell_type": "raw",
   "metadata": {},
   "source": [
    "index(), to get the index of the first element of a list that matches its input and count(), to get the number of times an element appears in a list."
   ]
  },
  {
   "cell_type": "raw",
   "metadata": {},
   "source": [
    "You'll be working on the list with the area of different parts of a house: areas."
   ]
  },
  {
   "cell_type": "raw",
   "metadata": {},
   "source": [
    "Instructions\n",
    "- Use the index() method to get the index of the element in areas that is equal to 20.0. Print out this index.\n",
    "-Call count() on areas to find out how many times 14.5 appears in the list. Again, simply print out this number."
   ]
  },
  {
   "cell_type": "code",
   "execution_count": 1,
   "metadata": {},
   "outputs": [],
   "source": [
    "# Create list areas\n",
    "areas = [11.25, 18.0, 20.0, 10.75, 9.50]"
   ]
  },
  {
   "cell_type": "code",
   "execution_count": 2,
   "metadata": {},
   "outputs": [
    {
     "name": "stdout",
     "output_type": "stream",
     "text": [
      "2\n"
     ]
    }
   ],
   "source": [
    "# Print out the index of the element 20.0\n",
    "print(areas.index(20))"
   ]
  },
  {
   "cell_type": "code",
   "execution_count": 3,
   "metadata": {},
   "outputs": [
    {
     "name": "stdout",
     "output_type": "stream",
     "text": [
      "0\n"
     ]
    }
   ],
   "source": [
    "# Print out how often 14.5 appears in areas\n",
    "print(areas.count(14.5))"
   ]
  }
 ],
 "metadata": {
  "kernelspec": {
   "display_name": "Python 3",
   "language": "python",
   "name": "python3"
  },
  "language_info": {
   "codemirror_mode": {
    "name": "ipython",
    "version": 3
   },
   "file_extension": ".py",
   "mimetype": "text/x-python",
   "name": "python",
   "nbconvert_exporter": "python",
   "pygments_lexer": "ipython3",
   "version": "3.7.1"
  }
 },
 "nbformat": 4,
 "nbformat_minor": 2
}
