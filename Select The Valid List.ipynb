{
 "cells": [
  {
   "cell_type": "markdown",
   "metadata": {},
   "source": [
    "# Select the valid list"
   ]
  },
  {
   "cell_type": "raw",
   "metadata": {},
   "source": [
    "A list can contain any Python type. But a list itself is also a Python type. That means that a list can also contain a list! Python is getting funkier by the minute, but fear not, just remember the list syntax:"
   ]
  },
  {
   "cell_type": "code",
   "execution_count": 1,
   "metadata": {},
   "outputs": [],
   "source": [
    "# Syntax\n",
    "# my_list = [el1, el2, el3]"
   ]
  },
  {
   "cell_type": "code",
   "execution_count": 3,
   "metadata": {},
   "outputs": [],
   "source": [
    "# Can you tell which ones of the following lines of Python code are valid ways to build a list?\n",
    "A=[1, 3, 4, 2] \n",
    "B=[[1, 2, 3], [4, 5, 7]] \n",
    "C=[1 + 2, \"a\" * 5, 3]\n",
    "\n",
    "# A, B and C\n",
    "# B\n",
    "# B and C\n",
    "# C\n",
    "\n",
    "# A, B and C <----- CORRECT"
   ]
  }
 ],
 "metadata": {
  "kernelspec": {
   "display_name": "Python 3",
   "language": "python",
   "name": "python3"
  },
  "language_info": {
   "codemirror_mode": {
    "name": "ipython",
    "version": 3
   },
   "file_extension": ".py",
   "mimetype": "text/x-python",
   "name": "python",
   "nbconvert_exporter": "python",
   "pygments_lexer": "ipython3",
   "version": "3.7.1"
  }
 },
 "nbformat": 4,
 "nbformat_minor": 2
}
