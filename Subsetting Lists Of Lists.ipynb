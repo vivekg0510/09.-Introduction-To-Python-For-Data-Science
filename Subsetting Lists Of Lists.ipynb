{
 "cells": [
  {
   "cell_type": "markdown",
   "metadata": {},
   "source": [
    "# Subsetting lists of lists"
   ]
  },
  {
   "cell_type": "raw",
   "metadata": {},
   "source": [
    "You saw before that a Python list can contain practically anything; even other lists! To subset lists of lists, you can use the same technique as before: square brackets. Try out the commands in the following code sample in the IPython Shell:"
   ]
  },
  {
   "cell_type": "code",
   "execution_count": 1,
   "metadata": {},
   "outputs": [
    {
     "name": "stdout",
     "output_type": "stream",
     "text": [
      "g\n",
      "['g', 'h']\n"
     ]
    }
   ],
   "source": [
    "x = [[\"a\", \"b\", \"c\"],\n",
    "     [\"d\", \"e\", \"f\"],\n",
    "     [\"g\", \"h\", \"i\"]]\n",
    "print(x[2][0])\n",
    "print(x[2][:2])"
   ]
  },
  {
   "cell_type": "raw",
   "metadata": {},
   "source": [
    "x[2] results in a list, that you can subset again by adding additional square brackets."
   ]
  },
  {
   "cell_type": "raw",
   "metadata": {},
   "source": [
    "What will house[-1][1] return? \n",
    "house, the list of lists that you created before, is already defined for you in the workspace. You can experiment with it in the IPython Shell.\n",
    "\n",
    "Possible Answers\n",
    "A float: the kitchen area\n",
    "A string: \"kitchen\"\n",
    "A float: the bathroom area\n",
    "A string: \"bathroom\""
   ]
  },
  {
   "cell_type": "code",
   "execution_count": 3,
   "metadata": {},
   "outputs": [
    {
     "name": "stdout",
     "output_type": "stream",
     "text": [
      "9.5\n"
     ]
    }
   ],
   "source": [
    "house = [['hallway', 11.25],\n",
    "         ['kitchen', 18.0],\n",
    "         ['living room', 20.0],\n",
    "         ['bedroom', 10.75],\n",
    "         ['bathroom', 9.5]]\n",
    "\n",
    "print(house[-1][1])\n",
    "# A float: the bathroom area"
   ]
  }
 ],
 "metadata": {
  "kernelspec": {
   "display_name": "Python 3",
   "language": "python",
   "name": "python3"
  },
  "language_info": {
   "codemirror_mode": {
    "name": "ipython",
    "version": 3
   },
   "file_extension": ".py",
   "mimetype": "text/x-python",
   "name": "python",
   "nbconvert_exporter": "python",
   "pygments_lexer": "ipython3",
   "version": "3.7.1"
  }
 },
 "nbformat": 4,
 "nbformat_minor": 2
}
