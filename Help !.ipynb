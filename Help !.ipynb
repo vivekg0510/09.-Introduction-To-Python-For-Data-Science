{
 "cells": [
  {
   "cell_type": "markdown",
   "metadata": {},
   "source": [
    "# Help!"
   ]
  },
  {
   "cell_type": "raw",
   "metadata": {},
   "source": [
    "Maybe you already know the name of a Python function, but you still have to figure out how to use it. Ironically, you have to ask for information about a function with another function: help(). In IPython specifically, you can also use ? before the function name."
   ]
  },
  {
   "cell_type": "raw",
   "metadata": {},
   "source": [
    "To get help on the max() function, for example, you can use one of these calls:\n",
    "\n",
    "1.     help(max)\n",
    "2.     ?max\n"
   ]
  },
  {
   "cell_type": "raw",
   "metadata": {},
   "source": [
    "Use the Shell on the right to open up the documentation on complex(). Which of the following statements is true?\n",
    "\n",
    "Possible Answers\n",
    "complex() takes exactly two arguments: real and [, imag].\n",
    "complex() takes two arguments: real and imag. Both these arguments are required.\n",
    "complex() takes two arguments: real and imag. real is a required argument, imag is an optional argument.\n",
    "complex() takes two arguments: real and imag. If you don't specify imag, it is set to 1 by Python."
   ]
  },
  {
   "cell_type": "code",
   "execution_count": null,
   "metadata": {},
   "outputs": [],
   "source": [
    "# complex() takes two arguments: real and imag. real is a required argument, imag is an optional argument."
   ]
  }
 ],
 "metadata": {
  "kernelspec": {
   "display_name": "Python 3",
   "language": "python",
   "name": "python3"
  },
  "language_info": {
   "codemirror_mode": {
    "name": "ipython",
    "version": 3
   },
   "file_extension": ".py",
   "mimetype": "text/x-python",
   "name": "python",
   "nbconvert_exporter": "python",
   "pygments_lexer": "ipython3",
   "version": "3.7.1"
  }
 },
 "nbformat": 4,
 "nbformat_minor": 2
}
